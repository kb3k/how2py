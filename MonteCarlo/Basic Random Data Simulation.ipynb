{
 "cells": [
  {
   "cell_type": "code",
   "execution_count": 1,
   "metadata": {},
   "outputs": [],
   "source": [
    "%matplotlib inline\n",
    "# ^^ this is genuinely called a \"magic function,\" I kid you not\n",
    "import matplotlib.pyplot as plt # open a cmd prompt and pip install matplotlib and then re-open Jupyter notebook\n",
    "from random import randint # random is a python built-in; no need to install, simply import what you need"
   ]
  },
  {
   "cell_type": "code",
   "execution_count": 2,
   "metadata": {},
   "outputs": [],
   "source": [
    "monte_carlo = {} # declaring the empty dictionary"
   ]
  },
  {
   "cell_type": "code",
   "execution_count": 3,
   "metadata": {},
   "outputs": [],
   "source": [
    "for i in range(0, 1000): # would yield same result if I used range(1, 1001)\n",
    "    di = randint(1, 12)\n",
    "    if di in monte_carlo:\n",
    "        monte_carlo[di] += 1\n",
    "    else:\n",
    "        monte_carlo[di] = 1"
   ]
  },
  {
   "cell_type": "code",
   "execution_count": 53,
   "metadata": {},
   "outputs": [
    {
     "name": "stdout",
     "output_type": "stream",
     "text": [
      "{1: 0, 2: 0, 3: 0, 4: 0, 5: 0, 6: 0, 7: 0, 8: 0, 9: 0, 10: 0, 11: 0, 12: 0}\n",
      "{1: 93, 2: 83, 3: 92, 4: 84, 5: 75, 6: 83, 7: 76, 8: 82, 9: 76, 10: 101, 11: 87, 12: 68}\n",
      "1000\n",
      "1000\n"
     ]
    }
   ],
   "source": [
    "i = 0\n",
    "carlo_monte = {key:0 for key in range(1, 12+1)}\n",
    "print(carlo_monte)\n",
    "while i < 1000:\n",
    "    di = randint(1, 12)\n",
    "    carlo_monte[di] += 1\n",
    "    i += 1\n",
    "print(carlo_monte)\n",
    "print(i)\n",
    "cnt = 0\n",
    "for i in list(carlo_monte.values()):\n",
    "    cnt += i\n",
    "print(cnt)"
   ]
  },
  {
   "cell_type": "code",
   "execution_count": 54,
   "metadata": {},
   "outputs": [
    {
     "name": "stdout",
     "output_type": "stream",
     "text": [
      "6  :  82\n",
      "11  :  83\n",
      "10  :  90\n",
      "2  :  90\n",
      "4  :  80\n",
      "7  :  74\n",
      "12  :  90\n",
      "9  :  82\n",
      "3  :  86\n",
      "8  :  86\n",
      "5  :  86\n",
      "1  :  71\n"
     ]
    }
   ],
   "source": [
    "for key, val in monte_carlo.items():\n",
    "    print(key, \" : \", val)"
   ]
  },
  {
   "cell_type": "code",
   "execution_count": 56,
   "metadata": {},
   "outputs": [
    {
     "name": "stdout",
     "output_type": "stream",
     "text": [
      "1  : 71\n",
      "2  : 90\n",
      "3  : 86\n",
      "4  : 80\n",
      "5  : 86\n",
      "6  : 82\n",
      "7  : 74\n",
      "8  : 86\n",
      "9  : 82\n",
      "10 : 90\n",
      "11 : 83\n",
      "12 : 90\n"
     ]
    }
   ],
   "source": [
    "keys = list(monte_carlo.keys())\n",
    "keys.sort()\n",
    "center = \"  : \"\n",
    "for key in keys:\n",
    "    center = center if key < 10 else \" : \"\n",
    "    print(str(key) + center + str(monte_carlo[key]))"
   ]
  },
  {
   "cell_type": "code",
   "execution_count": 6,
   "metadata": {},
   "outputs": [
    {
     "data": {
      "text/plain": [
       "<BarContainer object of 12 artists>"
      ]
     },
     "execution_count": 6,
     "metadata": {},
     "output_type": "execute_result"
    },
    {
     "data": {
      "image/png": "[encoded data removed]",
      "text/plain": [
       "<Figure size 432x288 with 1 Axes>"
      ]
     },
     "metadata": {
      "needs_background": "light"
     },
     "output_type": "display_data"
    }
   ],
   "source": [
    "plt.bar(*zip(*monte_carlo.items()))"
   ]
  },
  {
   "cell_type": "code",
   "execution_count": 37,
   "metadata": {},
   "outputs": [
    {
     "data": {
      "image/png": "[encoded data removed]",
      "text/plain": [
       "<Figure size 432x288 with 1 Axes>"
      ]
     },
     "metadata": {
      "needs_background": "light"
     },
     "output_type": "display_data"
    }
   ],
   "source": [
    "plt.bar(monte_carlo.keys(), monte_carlo.values())\n",
    "hi = plt.xticks(range(0, len(monte_carlo) + 1)) # assigning to variable so a bunch of stuff idc about doesn't print out\n",
    "howudoin = plt.yticks(range(0, 100, 10)) # better if you calculate ticks rather than hardcoding but this steps by 10 btw\n",
    "title = plt.title(\"hey\")\n",
    "ylabl = plt.ylabel(\"y stuff\")\n",
    "xlable = plt.xlabel(\"x stuff\")"
   ]
  },
  {
   "cell_type": "code",
   "execution_count": 61,
   "metadata": {},
   "outputs": [
    {
     "data": {
      "text/plain": [
       "(array([1., 1., 0., 0., 1., 2., 1., 3., 0., 3.]),\n",
       " array([71. , 72.9, 74.8, 76.7, 78.6, 80.5, 82.4, 84.3, 86.2, 88.1, 90. ]),\n",
       " <a list of 10 Patch objects>)"
      ]
     },
     "execution_count": 61,
     "metadata": {},
     "output_type": "execute_result"
    },
    {
     "data": {
      "image/png": "[encoded data removed]",
      "text/plain": [
       "<Figure size 432x288 with 1 Axes>"
      ]
     },
     "metadata": {
      "needs_background": "light"
     },
     "output_type": "display_data"
    }
   ],
   "source": [
    "plt.hist(monte_carlo.values())"
   ]
  }
 ],
 "metadata": {
  "kernelspec": {
   "display_name": "Python 3",
   "language": "python",
   "name": "python3"
  },
  "language_info": {
   "codemirror_mode": {
    "name": "ipython",
    "version": 3
   },
   "file_extension": ".py",
   "mimetype": "text/x-python",
   "name": "python",
   "nbconvert_exporter": "python",
   "pygments_lexer": "ipython3",
   "version": "3.7.1"
  }
 },
 "nbformat": 4,
 "nbformat_minor": 2
}
